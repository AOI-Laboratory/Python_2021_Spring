{
  "nbformat": 4,
  "nbformat_minor": 0,
  "metadata": {
    "language_info": {
      "codemirror_mode": {
        "name": "ipython",
        "version": 3
      },
      "file_extension": ".py",
      "mimetype": "text/x-python",
      "name": "python",
      "nbconvert_exporter": "python",
      "pygments_lexer": "ipython3",
      "version": "3.8.8"
    },
    "orig_nbformat": 2,
    "kernelspec": {
      "name": "python3",
      "display_name": "Python 3.8.8 64-bit ('keras': conda)",
      "metadata": {
        "interpreter": {
          "hash": "2946ba4fe7d21654ab3a8d1da6d38561cca0c703e72750187d0f1fb58552714c"
        }
      }
    },
    "colab": {
      "name": "9_if_else.ipynb",
      "provenance": [],
      "collapsed_sections": []
    }
  },
  "cells": [
    {
      "cell_type": "markdown",
      "metadata": {
        "id": "cYWURELL2yf0"
      },
      "source": [
        "---\n",
        "\n",
        "\n",
        "Author: Eugene Su \n",
        "\n",
        "Email: <su.eugene@gmail.com>\n",
        "\n",
        "https://sites.google.com/view/smartrobot/lab\n",
        "\n",
        "\n",
        "---\n",
        "\n"
      ]
    },
    {
      "cell_type": "markdown",
      "metadata": {
        "id": "ogOK1PHovZx7"
      },
      "source": [
        "判斷num是偶數(even)或奇數(odd)\n",
        "\n",
        "---\n",
        "\n"
      ]
    },
    {
      "cell_type": "markdown",
      "metadata": {
        "id": "dSl_zOt6DdNY"
      },
      "source": [
        "random.randint(a, b): Return a random integer N such that a <= N <= b. Alias for randrange(a, b+1).\n",
        "\n",
        "---\n",
        "\n"
      ]
    },
    {
      "cell_type": "code",
      "metadata": {
        "id": "Q_if6S9SuRrz",
        "colab": {
          "base_uri": "https://localhost:8080/"
        },
        "outputId": "3abfefb8-7c44-42df-8207-6c19c908db07"
      },
      "source": [
        "import random\n",
        "\n",
        "num = random.randint(0, 1e6)\n",
        "\n",
        "if num % 2 == 0:\n",
        "    print('{} is even'.format(num))\n",
        "else:\n",
        "    print('{} is odd'.format(num))\n"
      ],
      "execution_count": 46,
      "outputs": [
        {
          "output_type": "stream",
          "text": [
            "767369 is odd\n"
          ],
          "name": "stdout"
        }
      ]
    },
    {
      "cell_type": "markdown",
      "metadata": {
        "id": "Q1r2QMl2v5Tf"
      },
      "source": [
        "不考慮效能，是否還有第二種方法判斷num是偶數或奇數\n",
        "\n",
        "---\n",
        "\n"
      ]
    },
    {
      "cell_type": "markdown",
      "metadata": {
        "id": "bB_CXpMNejS-"
      },
      "source": [
        "方法二: 利用除以2會變成浮點數，奇數的浮點數不會等於floor division\n",
        "\n",
        "---\n",
        "\n",
        "\n"
      ]
    },
    {
      "cell_type": "code",
      "metadata": {
        "id": "wHruACb4uRsI",
        "colab": {
          "base_uri": "https://localhost:8080/"
        },
        "outputId": "33d3cf1f-315b-4733-cf24-da7f15116fe4"
      },
      "source": [
        "import random\n",
        "\n",
        "num = random.randint(0, 1e6)\n",
        "floor_div = num // 2\n",
        "div = num / 2\n",
        "\n",
        "print('num floor_div 2 = {}, type = {}'.format(floor_div, type(floor_div)))\n",
        "print('num div 2 = {}, type = {}'.format(div, type(div)))\n",
        "\n",
        "if num // 2 == num / 2:\n",
        "    print('{} is even'.format(num))\n",
        "else:\n",
        "    print('{} is odd'.format(num))\n",
        "    "
      ],
      "execution_count": 49,
      "outputs": [
        {
          "output_type": "stream",
          "text": [
            "num floor_div 2 = 332375, type = <class 'int'>\n",
            "num div 2 = 332375.5, type = <class 'float'>\n",
            "664751 is odd\n"
          ],
          "name": "stdout"
        }
      ]
    },
    {
      "cell_type": "markdown",
      "metadata": {
        "id": "6mD222o1hiaQ"
      },
      "source": [
        "方法三: 利用bitwise and判斷bit0為0是偶數，bit0為1是奇數\n",
        "\n",
        "---\n",
        "\n"
      ]
    },
    {
      "cell_type": "code",
      "metadata": {
        "colab": {
          "base_uri": "https://localhost:8080/"
        },
        "id": "L_qkLtMjfv8T",
        "outputId": "6737ead4-eaf6-4de1-c33f-953f3a10a3be"
      },
      "source": [
        "import random\n",
        "\n",
        "num = random.randint(0, 1e6)\n",
        "bitwise_flag = 1\n",
        "num_and_1 = num & 1\n",
        "\n",
        "print('num = {}, num_and_1 = {}'.format(num, num_and_1))\n",
        "if num_and_1 == 0:\n",
        "    print('{} is even'.format(num))\n",
        "else:\n",
        "    print('{} is odd'.format(num))"
      ],
      "execution_count": 26,
      "outputs": [
        {
          "output_type": "stream",
          "text": [
            "num = 889109, num_and_1 = 1\n",
            "889109 is odd\n"
          ],
          "name": "stdout"
        }
      ]
    },
    {
      "cell_type": "code",
      "metadata": {
        "id": "BiYcRDzduRsK",
        "colab": {
          "base_uri": "https://localhost:8080/"
        },
        "outputId": "657734e5-d23d-4eb6-a1df-64fef9e32dca"
      },
      "source": [
        "import random\n",
        "import time\n",
        "\n",
        "start = time.time()\n",
        "for num in range(int(2e7)):\n",
        "    if num % 2 == 0:\n",
        "        num = 0\n",
        "    else:\n",
        "        num = 1\n",
        "\n",
        "end = time.time()\n",
        "print('Spent times of % = {}'.format(end - start))"
      ],
      "execution_count": null,
      "outputs": [
        {
          "output_type": "stream",
          "text": [
            "Spent times of % = 2.5986602306365967\n"
          ],
          "name": "stdout"
        }
      ]
    },
    {
      "cell_type": "code",
      "metadata": {
        "id": "R46A9CUyuRsL",
        "colab": {
          "base_uri": "https://localhost:8080/"
        },
        "outputId": "0912f469-6926-41fe-9d51-16ec957d9da5"
      },
      "source": [
        "import random\n",
        "import time\n",
        "\n",
        "start = time.time()\n",
        "for num in range(int(2e7)):\n",
        "    if num // 2 == num / 2:\n",
        "        num = 0\n",
        "    else:\n",
        "        num = 1\n",
        "\n",
        "end = time.time()\n",
        "print('Spent times of // and / = {}'.format(end - start))"
      ],
      "execution_count": null,
      "outputs": [
        {
          "output_type": "stream",
          "text": [
            "Spent times of // and / = 4.171241283416748\n"
          ],
          "name": "stdout"
        }
      ]
    },
    {
      "cell_type": "code",
      "metadata": {
        "colab": {
          "base_uri": "https://localhost:8080/"
        },
        "id": "zNqvZhyrgxdz",
        "outputId": "75621967-e404-41a6-fa7e-f75a628240a9"
      },
      "source": [
        "import random\n",
        "import time\n",
        "\n",
        "start = time.time()\n",
        "for num in range(int(2e7)):\n",
        "    if num & 1 == 0:\n",
        "        num = 0\n",
        "    else:\n",
        "        num = 1\n",
        "\n",
        "end = time.time()\n",
        "print('Spent times of bitwise and = {}'.format(end - start))"
      ],
      "execution_count": 28,
      "outputs": [
        {
          "output_type": "stream",
          "text": [
            "Spent times of // and / = 2.8498282432556152\n"
          ],
          "name": "stdout"
        }
      ]
    },
    {
      "cell_type": "markdown",
      "metadata": {
        "id": "5Lcn1KPch2VT"
      },
      "source": [
        "三個方法，餘數最快，bitwise and次之，利用浮點數的特性最慢\n",
        "\n",
        "---\n",
        "\n"
      ]
    }
  ]
}