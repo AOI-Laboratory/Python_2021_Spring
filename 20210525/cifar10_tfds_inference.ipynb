{
  "nbformat": 4,
  "nbformat_minor": 0,
  "metadata": {
    "colab": {
      "name": "cifar10_tfds_inference.ipynb",
      "provenance": [],
      "collapsed_sections": []
    },
    "kernelspec": {
      "name": "python3",
      "display_name": "Python 3"
    },
    "language_info": {
      "name": "python"
    }
  },
  "cells": [
    {
      "cell_type": "markdown",
      "metadata": {
        "id": "-scgD22IRPD-"
      },
      "source": [
        "Author: Eugene Su\n",
        "\n",
        "Email: su.eugene@gmail.com\n",
        "\n",
        "https://sites.google.com/view/smartrobot/lab"
      ]
    },
    {
      "cell_type": "code",
      "metadata": {
        "id": "mvweXnjt8NxU"
      },
      "source": [
        "import tensorflow as tf\n",
        "import tensorflow_datasets as tfds\n",
        "import numpy as np\n",
        "import os\n",
        "from google.colab import drive"
      ],
      "execution_count": null,
      "outputs": []
    },
    {
      "cell_type": "code",
      "metadata": {
        "id": "OV9Y_GmO8cR2"
      },
      "source": [
        "# 下載訓練資料和驗證資料\n",
        "(train_data, val_data), ds_info = tfds.load(\n",
        "    'cifar10',\n",
        "    split=['train', 'test'],\n",
        "    shuffle_files=True,\n",
        "    as_supervised=True,\n",
        "    with_info=True,\n",
        ")"
      ],
      "execution_count": null,
      "outputs": []
    },
    {
      "cell_type": "code",
      "metadata": {
        "id": "R7Z8ykbr8iD-"
      },
      "source": [
        "# 對圖片正規化\n",
        "# Min-Max Normalization\n",
        "def normalize_img(image, label):\n",
        "    \"\"\"Normalizes images: `uint8` -> `float32`.\"\"\"\n",
        "    return tf.cast(image, tf.float32) / 255., label"
      ],
      "execution_count": null,
      "outputs": []
    },
    {
      "cell_type": "code",
      "metadata": {
        "id": "77fsmuIK8lJs"
      },
      "source": [
        "# 設定驗證集\n",
        "val_data = val_data.map(normalize_img, num_parallel_calls=tf.data.experimental.AUTOTUNE)\n",
        "val_data = val_data.batch(1)  # batch size為1，效能最差，但易於編寫程式\n",
        "val_data = val_data.cache()\n",
        "val_data = val_data.prefetch(tf.data.experimental.AUTOTUNE)"
      ],
      "execution_count": null,
      "outputs": []
    },
    {
      "cell_type": "code",
      "metadata": {
        "id": "YJmgqO6x8zzC"
      },
      "source": [
        "# 掛載Google Drive\n",
        "drive.mount('/content/drive', force_remount=True)\n",
        "LOG_ROOT = '/content/drive/My Drive/CIFAR10_CNN'"
      ],
      "execution_count": null,
      "outputs": []
    },
    {
      "cell_type": "code",
      "metadata": {
        "id": "HKeTKMnx8oLU"
      },
      "source": [
        "model_dir = '20210510-11:22:03-b(64)-lr(0.001)-wd(0.0001)'\n",
        "checkpoint_name = 'cp-0123-0.9032.ckpt'\n",
        "full_file_path = os.path.join(LOG_ROOT, model_dir, checkpoint_name)\n",
        "loaded_model = tf.keras.models.load_model(full_file_path)"
      ],
      "execution_count": null,
      "outputs": []
    },
    {
      "cell_type": "code",
      "metadata": {
        "id": "Lqsly6PJMcmo"
      },
      "source": [
        "num_val_images = len(val_data)\n",
        "take_count = 0\n",
        "\n",
        "# 同學可以將batch size設定為大於1的數值，使用矩陣的思維改寫下方程式碼\n",
        "for image, label in val_data.take(num_val_images):\n",
        "    prob = loaded_model.predict(image)\n",
        "    predicted_class_id = np.argmax(prob)\n",
        "    ground_truth = label.numpy()\n",
        "    take_count += 1\n",
        "    print('{} : predicted_class_id = {}'.format(take_count, predicted_class_id))\n",
        "    print('{} : ground_truth = {}'.format(take_count, ground_truth))\n"
      ],
      "execution_count": null,
      "outputs": []
    }
  ]
}